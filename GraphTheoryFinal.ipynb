{
 "cells": [
  {
   "cell_type": "code",
   "execution_count": 1,
   "metadata": {},
   "outputs": [],
   "source": [
    "import matplotlib.pyplot as plt\n",
    "import networkx as nx\n",
    "import numpy as np\n",
    "import collections\n",
    "import graphistry\n",
    "\n",
    "from collections import Counter\n",
    "\n",
    "%matplotlib inline"
   ]
  },
  {
   "cell_type": "code",
   "execution_count": 2,
   "metadata": {},
   "outputs": [],
   "source": [
    "source1 = 'socfb-Mich67.txt' \n",
    "source2 = 'ca-GrQc.txt'\n",
    "\n",
    "graphistry.register(api=3, protocol=\"https\", server=\"hub.graphistry.com\", username=\"klavan16\", password=\"abcd2323\")\n"
   ]
  },
  {
   "cell_type": "code",
   "execution_count": 3,
   "metadata": {},
   "outputs": [],
   "source": [
    "# This function is used for reading the data and creating the graph.\n",
    "# source: file location\n",
    "# G: Graph\n",
    "def create_graph(source):\n",
    "    G = nx.Graph()\n",
    "    with open(source) as file:\n",
    "        lines = file.readlines()\n",
    "        for line in lines:\n",
    "            nodes = line.split()\n",
    "            G.add_edge(nodes[0], nodes[1])\n",
    "    return G"
   ]
  },
  {
   "cell_type": "code",
   "execution_count": 4,
   "metadata": {},
   "outputs": [],
   "source": [
    "G1 = create_graph(source1)\n",
    "G2 = create_graph(source2)"
   ]
  },
  {
   "cell_type": "markdown",
   "metadata": {},
   "source": [
    "#### Graph Informations"
   ]
  },
  {
   "cell_type": "code",
   "execution_count": 5,
   "metadata": {},
   "outputs": [],
   "source": [
    "def print_graph_info(G):\n",
    "    ds = list(G.degree())\n",
    "    \n",
    "    print('Number of nodes: {}'.format(G.number_of_nodes()))\n",
    "    print('Number of edges: {}'.format(G.number_of_edges()))\n",
    "    \n",
    "    degree = [int(i) for i in np.array(list(G.degree()))[:,1]]\n",
    "    \n",
    "    print('Max degree: {}'.format(np.max(degree)))\n",
    "    print('Min degree: {}'.format(np.min(degree)))\n",
    "    print('Average degree: {}'.format(np.mean(degree)))\n",
    "    print('Median degree: {}'.format(np.median(degree)))"
   ]
  },
  {
   "cell_type": "code",
   "execution_count": 6,
   "metadata": {},
   "outputs": [
    {
     "name": "stdout",
     "output_type": "stream",
     "text": [
      "\t \"Graph1 information\" \n",
      "Number of nodes: 3748\n",
      "Number of edges: 81903\n",
      "Max degree: 419\n",
      "Min degree: 1\n",
      "Average degree: 43.704909284951974\n",
      "Median degree: 30.0\n",
      "\n",
      "\t \"Graph2 information\" \n",
      "Number of nodes: 4158\n",
      "Number of edges: 13422\n",
      "Max degree: 81\n",
      "Min degree: 1\n",
      "Average degree: 6.455988455988456\n",
      "Median degree: 3.0\n"
     ]
    }
   ],
   "source": [
    "# people (nodes), friendship (edges).\n",
    "print('\\t \"Graph1 information\" ')\n",
    "print_graph_info(G1)\n",
    "print()\n",
    "print('\\t \"Graph2 information\" ')\n",
    "print_graph_info(G2)\n"
   ]
  },
  {
   "cell_type": "code",
   "execution_count": null,
   "metadata": {},
   "outputs": [],
   "source": [
    "\n",
    "graphistry.bind(source='src', destination='dst', node='nodeid').plot(G1)\n"
   ]
  },
  {
   "cell_type": "code",
   "execution_count": null,
   "metadata": {},
   "outputs": [],
   "source": [
    "graphistry.bind(source='src', destination='dst', node='nodeid').plot(G2)"
   ]
  },
  {
   "cell_type": "markdown",
   "metadata": {},
   "source": [
    "#### Graph Adjacency Matrix"
   ]
  },
  {
   "cell_type": "code",
   "execution_count": null,
   "metadata": {},
   "outputs": [],
   "source": [
    "# This function is used to show adjacency matrix\n",
    "# G: Graph\n",
    "# ax: for show\n",
    "# title: title of the adjacency matrix \n",
    "def show_adjacency_matrix(G, ax, title):\n",
    "    A = nx.to_numpy_matrix(G, dtype=np.bool)\n",
    "    \n",
    "    ax.set_title(title)\n",
    "    ax.imshow(A, cmap=\"Greys\", interpolation=\"none\")"
   ]
  },
  {
   "cell_type": "code",
   "execution_count": null,
   "metadata": {},
   "outputs": [],
   "source": [
    "fig, (ax1, ax2) = plt.subplots(1, 2, figsize=(12, 12))\n",
    "show_adjacency_matrix(G1, ax1, 'Graph1 Adjecency Matrix')\n",
    "show_adjacency_matrix(G2, ax2, 'Graph2 Adjecency Matrix')"
   ]
  },
  {
   "cell_type": "markdown",
   "metadata": {},
   "source": [
    "#### Graph Degree Distribution"
   ]
  },
  {
   "cell_type": "code",
   "execution_count": null,
   "metadata": {},
   "outputs": [],
   "source": [
    "# This function is used to plot degree distribution\n",
    "# G: Graph\n",
    "# ax: for show \n",
    "# title: title of the degree distribution\n",
    "def plot_degree_dist(G, ax, title):\n",
    "    dfreq = np.array(nx.degree_histogram(G)).astype('float')\n",
    "    x = np.array(range(len(dfreq)))\n",
    "    poly = np.polyfit(x, dfreq, 15)\n",
    "    poly_y = np.poly1d(poly)(x)\n",
    "    ax.plot(x, poly_y)\n",
    "    ax.set_title(title)\n",
    "    ax.set_xlabel(\"Degree\")\n",
    "    ax.set_ylabel(\"Frequency\")"
   ]
  },
  {
   "cell_type": "code",
   "execution_count": null,
   "metadata": {},
   "outputs": [],
   "source": [
    "# This function is used to plot degree distribution\n",
    "# G1: Graph1\n",
    "# G2: Graph2\n",
    "# ax: for show \n",
    "# title: title of the degree distribution\n",
    "def plot_degree_dist_overlay(G_list, ax, title,highlightLast = False):\n",
    "    for i,G in enumerate(G_list):\n",
    "        dfreq = np.array(nx.degree_histogram(G)).astype('float')\n",
    "        x = np.array(range(len(dfreq)))\n",
    "        poly = np.polyfit(x, dfreq, 15)\n",
    "        poly_y = np.poly1d(poly)(x)\n",
    "        if highlightLast and i != len(G_list)-1:\n",
    "            ax.plot(x, poly_y,linestyle = \":\",alpha=0.7,linewidth=0.5)\n",
    "        else:\n",
    "            ax.plot(x, poly_y,linestyle='-',alpha=1,linewidth=2,color= 'blue' if highlightLast else None)\n",
    "        \n",
    "    ax.set_title(title)\n",
    "    ax.set_xlabel(\"Degree\")\n",
    "    ax.set_ylabel(\"Frequency\")"
   ]
  },
  {
   "cell_type": "code",
   "execution_count": null,
   "metadata": {},
   "outputs": [],
   "source": [
    "fig, (ax1, ax2) = plt.subplots(1, 2, figsize=(15, 4))\n",
    "plot_degree_dist(G1, ax1, 'Graph1 Degree Distribution')\n",
    "plot_degree_dist(G2, ax2, 'Graph2 Degree Distribution')"
   ]
  },
  {
   "cell_type": "code",
   "execution_count": null,
   "metadata": {},
   "outputs": [],
   "source": [
    "fig, ax = plt.subplots(1, 1, figsize=(15, 4))\n",
    "G_list = [G1, G2]\n",
    "plot_degree_dist_overlay(G_list, ax, 'Graph Degree Distribution')"
   ]
  },
  {
   "cell_type": "code",
   "execution_count": null,
   "metadata": {},
   "outputs": [],
   "source": []
  },
  {
   "cell_type": "markdown",
   "metadata": {},
   "source": [
    "#### Random graph generation with given degree distribution"
   ]
  },
  {
   "cell_type": "code",
   "execution_count": null,
   "metadata": {},
   "outputs": [],
   "source": [
    "def get_degrees(G):\n",
    "    degrees = [val for (node, val) in G.degree()]\n",
    "    return degrees"
   ]
  },
  {
   "cell_type": "code",
   "execution_count": null,
   "metadata": {},
   "outputs": [],
   "source": [
    "def generate_random_graph(degrees, N):\n",
    "    G_list = []\n",
    "    \n",
    "    for i in range(N):\n",
    "        G = nx.expected_degree_graph(degrees, selfloops=False)\n",
    "        G_list.append(G)\n",
    "    return G_list"
   ]
  },
  {
   "cell_type": "code",
   "execution_count": null,
   "metadata": {},
   "outputs": [],
   "source": [
    "N = 100"
   ]
  },
  {
   "cell_type": "code",
   "execution_count": null,
   "metadata": {},
   "outputs": [],
   "source": [
    "degrees1 = get_degrees(G1)\n",
    "G_list1 = generate_random_graph(degrees1, N)\n",
    "G_list1.append(G1)"
   ]
  },
  {
   "cell_type": "code",
   "execution_count": null,
   "metadata": {},
   "outputs": [],
   "source": [
    "fig, ax = plt.subplots(1, 1, figsize=(15, 10))\n",
    "plot_degree_dist_overlay(G_list1[:], ax, 'Graph Degree Distribution',True)"
   ]
  },
  {
   "cell_type": "code",
   "execution_count": null,
   "metadata": {},
   "outputs": [],
   "source": [
    "degrees2 = get_degrees(G2)\n",
    "G_list2 = generate_random_graph(degrees2, N)\n",
    "G_list2.append(G2)"
   ]
  },
  {
   "cell_type": "code",
   "execution_count": null,
   "metadata": {},
   "outputs": [],
   "source": [
    "fig, ax = plt.subplots(1, 1, figsize=(15, 10))\n",
    "plot_degree_dist_overlay(G_list2[:], ax, 'Graph Degree Distribution',True)"
   ]
  },
  {
   "cell_type": "code",
   "execution_count": null,
   "metadata": {},
   "outputs": [],
   "source": []
  }
 ],
 "metadata": {
  "kernelspec": {
   "display_name": "Python 3",
   "language": "python",
   "name": "python3"
  },
  "language_info": {
   "codemirror_mode": {
    "name": "ipython",
    "version": 3
   },
   "file_extension": ".py",
   "mimetype": "text/x-python",
   "name": "python",
   "nbconvert_exporter": "python",
   "pygments_lexer": "ipython3",
   "version": "3.8.7"
  }
 },
 "nbformat": 4,
 "nbformat_minor": 4
}