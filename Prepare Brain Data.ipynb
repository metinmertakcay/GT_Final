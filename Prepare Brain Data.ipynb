{
 "cells": [
  {
   "cell_type": "code",
   "execution_count": 1,
   "metadata": {},
   "outputs": [],
   "source": [
    "f_input = 'dataset/bn-mouse.txt'\n",
    "f_output = 'dataset/bn-mouse-out.txt'"
   ]
  },
  {
   "cell_type": "code",
   "execution_count": 2,
   "metadata": {},
   "outputs": [],
   "source": [
    "nodes = []\n",
    "with open(f_input, 'r') as reader:\n",
    "    lines = reader.readlines()\n",
    "    for line in lines:\n",
    "        node = line.split()\n",
    "        u = node[0]\n",
    "        v = node[1]\n",
    "        \n",
    "        if not([u, v] in nodes) and not([v, u] in nodes) and int(u) != int(v):\n",
    "            nodes.append([u, v])\n",
    "            \n",
    "with open(f_output, 'w') as writer:\n",
    "    for node in nodes:\n",
    "        writer.write(node[0] + ' ' + node[1])\n",
    "        writer.write('\\n')"
   ]
  },
  {
   "cell_type": "code",
   "execution_count": null,
   "metadata": {},
   "outputs": [],
   "source": []
  }
 ],
 "metadata": {
  "kernelspec": {
   "display_name": "Python 3",
   "language": "python",
   "name": "python3"
  },
  "language_info": {
   "codemirror_mode": {
    "name": "ipython",
    "version": 3
   },
   "file_extension": ".py",
   "mimetype": "text/x-python",
   "name": "python",
   "nbconvert_exporter": "python",
   "pygments_lexer": "ipython3",
   "version": "3.6.12"
  }
 },
 "nbformat": 4,
 "nbformat_minor": 4
}
